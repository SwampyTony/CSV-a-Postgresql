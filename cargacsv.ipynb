{
 "cells": [
  {
   "cell_type": "code",
   "execution_count": 62,
   "id": "8f55ce0e",
   "metadata": {},
   "outputs": [],
   "source": [
    "import psycopg2\n",
    "import csv\n",
    "import os"
   ]
  },
  {
   "cell_type": "code",
   "execution_count": 63,
   "id": "c29bcb18",
   "metadata": {},
   "outputs": [],
   "source": [
    "#Inicializamos los datos de conexion \n",
    "\n",
    "host_r=\"localhost\"\n",
    "database_r=\"postgres\"\n",
    "user_r=\"postgres\"\n",
    "password_r=\"161192\""
   ]
  },
  {
   "cell_type": "code",
   "execution_count": 64,
   "id": "74ffe03e",
   "metadata": {},
   "outputs": [],
   "source": [
    "#Ubicamos la ruta del CSV\n",
    "\n",
    "ruta_archivo = \"C:/Users/Anthony/OneDrive/Escritorio/Automatizado/CSV\"\n",
    "ruta_archivo_contabilidad = os.path.join(ruta_archivo, \"contabilidad2.csv\")\n",
    "ruta_archivo_spectrum= os.path.join(ruta_archivo, \"spectrum.csv\")\n",
    "ruta_archivo_star_vm= os.path.join(ruta_archivo, \"vm.csv\")\n",
    "ruta_archivo_star= os.path.join(ruta_archivo, \"star.csv\")"
   ]
  },
  {
   "cell_type": "code",
   "execution_count": 49,
   "id": "e9e775b3",
   "metadata": {},
   "outputs": [],
   "source": [
    "conn = psycopg2.connect(host=host_r, database=database_r, user=user_r, password=password_r)\n",
    "cur = conn.cursor()\n",
    "\n",
    "#Corremos contabilidad\n",
    "\n",
    "with open(ruta_archivo_contabilidad, 'r', encoding='utf-8') as f:\n",
    "    reader = csv.reader(f, delimiter=';')\n",
    "    next(reader)  # saltar la primera fila (encabezados)\n",
    "\n",
    "    for row in reader:\n",
    "        # Convertir los valores vacíos en las columnas numéricas en None\n",
    "        row = [None if x=='' else x for x in row] \n",
    "        # Insertar la fila en la tabla\n",
    "        cur.execute(\"INSERT INTO cib.conta_diaria (campo1,cc_origen,desc_cc,fecon,report_date,c_resp,coddv,account,desc_cta,cedestun,ceorigen,asiento,apunte,docum,clacon,reference,debe_conta,haber_conta,import_conta,correccio,interfaz,deal_conta,importe_n,observ2,process_date) VALUES (%s, %s, %s, %s, %s, %s, %s, %s, %s, %s, %s, %s, %s, %s, %s, %s, %s, %s, %s, %s, %s, %s, %s, %s, %s)\", row)\n",
    "\n",
    "# Confirmar los cambios y cerrar la conexión\n",
    "conn.commit()\n",
    "cur.close()\n",
    "conn.close()"
   ]
  },
  {
   "cell_type": "code",
   "execution_count": 68,
   "id": "e82ec8d4",
   "metadata": {},
   "outputs": [],
   "source": [
    "conn = psycopg2.connect(host=host_r, database=database_r, user=user_r, password=password_r)\n",
    "cur = conn.cursor()\n",
    "\n",
    "#Corremos spectrum\n",
    "\n",
    "with open(ruta_archivo_spectrum, 'r', encoding='utf-8') as f:\n",
    "    reader = csv.reader(f, delimiter=';')\n",
    "    next(reader)  # saltar la primera fila (encabezados)\n",
    "    for row in reader:\n",
    "        # Convertir los valores vacíos en las columnas numéricas en None\n",
    "        row = [None if x=='' else x for x in row] \n",
    "        # Insertar la fila en la tabla\n",
    "        cur.execute(\"\"\"INSERT INTO cib.sp05_rich(value_date, origin_date, expiration_date, report_date, gl_entry_created_date, divisa, account, cost_center, lc_gl_account_amount, debe_spec, haber_spec, import_spec, deal_spec, event, app_counterparty_id, counterparty_name, portfolio, product, origin_center, deal_star, subproduct, legs_mark_type, movement_source_type, audtiminsert_date, t_ppcom, process_date) \n",
    "            VALUES (%s, %s, %s, %s, %s, %s, %s, %s, %s, %s, %s, %s, %s, %s, %s, %s, %s, %s, %s, %s, %s, %s, %s, %s,%s,%s)\"\"\",row)\n",
    "\n",
    "# Confirmar los cambios y cerrar la conexión\n",
    "conn.commit()\n",
    "cur.close()\n",
    "conn.close()"
   ]
  },
  {
   "cell_type": "code",
   "execution_count": 65,
   "id": "f1fe7d25",
   "metadata": {},
   "outputs": [],
   "source": [
    "conn = psycopg2.connect(host=host_r, database=database_r, user=user_r, password=password_r)\n",
    "cur = conn.cursor()\n",
    "\n",
    "#Corremos star_cj\n",
    "\n",
    "with open(ruta_archivo_star, 'r', encoding='utf-8') as f:\n",
    "    reader = csv.reader(f, delimiter=',')\n",
    "    next(reader)  # saltar la primera fila (encabezados)\n",
    "    for row in reader:\n",
    "        # Convertir los valores vacíos en las columnas numéricas en None\n",
    "        row = [None if x=='' else x for x in row] \n",
    "        # Insertar la fila en la tabla\n",
    "        cur.execute(\"\"\"INSERT INTO cib.star_cj(deal_star, unidad, product, reference, prod_cruce, divisa, fecha_cf, tipo_cf, import_star, cod_cpd, desc_cpd, tipo_cpd, tipo_op, status, f_alta, f_cont, cod_user, name, report_date, process_date, fuente, fecha_gen, fecha_ven) \n",
    "            VALUES (%s, %s, %s, %s, %s, %s, %s, %s, %s, %s, %s, %s, %s, %s, %s, %s, %s, %s, %s, %s, %s, %s, %s)\"\"\", row)\n",
    "# Confirmar los cambios y cerrar la conexión\n",
    "conn.commit()\n",
    "cur.close()\n",
    "conn.close()"
   ]
  },
  {
   "cell_type": "code",
   "execution_count": 67,
   "id": "2b2d4452",
   "metadata": {},
   "outputs": [],
   "source": [
    "conn = psycopg2.connect(host=host_r, database=database_r, user=user_r, password=password_r)\n",
    "cur = conn.cursor()\n",
    "\n",
    "#Corremos star_vm_cj\n",
    "\n",
    "with open(ruta_archivo_star_vm, 'r', encoding='utf-8') as f:\n",
    "    reader = csv.reader(f, delimiter=';')\n",
    "    next(reader)  # saltar la primera fila (encabezados)\n",
    "    for row in reader:\n",
    "        # Convertir los valores vacíos en las columnas numéricas en None\n",
    "        row = [None if x=='' else x for x in row] \n",
    "        # Insertar la fila en la tabla\n",
    "        cur.execute(\"\"\"INSERT INTO cib.star_vm_cj(deal_star_vm, unidad, divisa, prod_cruce, product, import_star_vm, import_murex_vm_1, cod_cpd, desc_cpd, tipo_cpd, tipo_op, status, gestor, f_alta, f_cont, cod_user, report_date, fecha_ven, process_date, fuente) \n",
    "        VALUES (%s, %s, %s, %s, %s, %s, %s, %s, %s, %s, %s, %s, %s, %s, %s, %s, %s, %s, %s, %s)\"\"\", row)\n",
    "\n",
    "# Confirmar los cambios y cerrar la conexión\n",
    "conn.commit()\n",
    "cur.close()\n",
    "conn.close()"
   ]
  },
  {
   "cell_type": "code",
   "execution_count": null,
   "id": "c3532260",
   "metadata": {},
   "outputs": [],
   "source": []
  }
 ],
 "metadata": {
  "kernelspec": {
   "display_name": "Python 3 (ipykernel)",
   "language": "python",
   "name": "python3"
  },
  "language_info": {
   "codemirror_mode": {
    "name": "ipython",
    "version": 3
   },
   "file_extension": ".py",
   "mimetype": "text/x-python",
   "name": "python",
   "nbconvert_exporter": "python",
   "pygments_lexer": "ipython3",
   "version": "3.10.9"
  }
 },
 "nbformat": 4,
 "nbformat_minor": 5
}
